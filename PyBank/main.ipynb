{
 "cells": [
  {
   "cell_type": "code",
   "execution_count": 61,
   "metadata": {},
   "outputs": [
    {
     "name": "stdout",
     "output_type": "stream",
     "text": [
      "   Financial Analysis \n",
      "   ----------------------------\n",
      "   Total Months: 86\n",
      "   Total: $38382578 \n",
      "   Average  Change: $-2315.12 \n",
      "   Greatest Increase in Profits:Feb-2012 ($1926159)\n",
      "   Greatest Decrease in Profits:Sep-2013 ($-2196167)\n"
     ]
    }
   ],
   "source": [
    "import csv\n",
    "month_count=0\n",
    "total_profit_losses=0\n",
    "profit_losses=[]\n",
    "\n",
    "# create a list/dict of changes in profit loss\n",
    "with open('budget_data.csv') as csv_file:\n",
    "    csv_reader = csv.reader(csv_file, delimiter=',')\n",
    "    csv_header=next(csv_reader)\n",
    "        \n",
    "    for row in csv_reader:\n",
    "        month_count += 1\n",
    "        total_profit_losses += int(row[1])\n",
    "        profit_losses.append(row)\n",
    "\n",
    "# declare variables and dictionaries to store minimum and maximum values.\n",
    "minimum=0\n",
    "maximum=0\n",
    "greatest_increase={}\n",
    "greatest_decrease={}\n",
    "change_total=0\n",
    "\n",
    "# loop through the profit loss list and populate dictnaries for Maximum and Minimum losses. Also calculate the average profit/loss change\n",
    "for i in range(1,month_count):\n",
    "    change=int(profit_losses[i][1]) - int(profit_losses[i-1][1])\n",
    "    change_total += change\n",
    "       \n",
    "    if change < minimum:\n",
    "        minimum = change\n",
    "        greatest_decrease={profit_losses[i][0]:change}\n",
    "    elif change>maximum:\n",
    "        maximum = change\n",
    "        greatest_increase = {profit_losses[i][0]:change}\n",
    "\n",
    "# Print the analysis to console and Write to a file\n",
    "str_greatest_increase = ((list)(greatest_increase.keys())[0]) + \" ($\" + str(((list)(greatest_increase.values())[0])) + \")\"\n",
    "str_greatest_decrease = ((list)(greatest_decrease.keys())[0]) + \" ($\" + str(((list)(greatest_decrease.values())[0])) + \")\"\n",
    "\n",
    "analysis_text= \"   Financial Analysis \\n \\\n",
    "  ----------------------------\\n \\\n",
    "  Total Months: \" + str(month_count) + \"\\n \\\n",
    "  Total: $\" + str(round(total_profit_losses,2)) + \" \\n \\\n",
    "  Average  Change: $\" + str(round(change_total/(month_count-1),2)) + \" \\n \\\n",
    "  Greatest Increase in Profits:\" + str_greatest_increase + \"\\n \\\n",
    "  Greatest Decrease in Profits:\" + str_greatest_decrease\n",
    "    \n",
    "print(analysis_text) \n",
    "\n",
    "f = open(\"Analysis.txt\", \"w\")\n",
    "f.write(analysis_text)\n",
    "f.close()\n",
    "\n",
    "\n",
    "\n",
    "\n",
    "   "
   ]
  },
  {
   "cell_type": "markdown",
   "metadata": {},
   "source": [
    "# "
   ]
  }
 ],
 "metadata": {
  "kernelspec": {
   "display_name": "Python 3",
   "language": "python",
   "name": "python3"
  },
  "language_info": {
   "codemirror_mode": {
    "name": "ipython",
    "version": 3
   },
   "file_extension": ".py",
   "mimetype": "text/x-python",
   "name": "python",
   "nbconvert_exporter": "python",
   "pygments_lexer": "ipython3",
   "version": "3.7.6"
  }
 },
 "nbformat": 4,
 "nbformat_minor": 4
}
